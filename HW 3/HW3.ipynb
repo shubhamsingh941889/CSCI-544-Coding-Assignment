{
 "cells": [
  {
   "cell_type": "markdown",
   "source": [
    "# CSCI_544 - HW3"
   ],
   "metadata": {}
  },
  {
   "cell_type": "code",
   "execution_count": 1,
   "source": [
    "import pandas as pd\n",
    "import numpy as np\n",
    "import random\n",
    "import re\n",
    "import os,sys\n",
    "from collections import Counter\n",
    "import nltk\n",
    "#^[0-9]\\d*([\\.\\,\\-\\\\\\/]*\\d+)?$\n",
    "#^[1-9]\\d*(\\.\\d+)?$\n",
    "regex = re.compile('^[0-9]\\d*([\\.\\,\\-\\\\\\/]*\\d+)?$')"
   ],
   "outputs": [],
   "metadata": {}
  },
  {
   "cell_type": "code",
   "execution_count": 2,
   "source": [
    "f=open(os.path.join(sys.path[0],'train'),\"r\")\n",
    "lines=f.read().splitlines()\n",
    "#lines = f.readlines().rstrip('\\n')\n",
    "result= []\n",
    "\n",
    "for x in lines:\n",
    "    y = x.split('\\t')\n",
    "    #print(x.split('\\t'))\n",
    "    if len(y)==3:\n",
    "        \n",
    "        result.append(x.split('\\t')[1].lower())\n",
    "f.close()\n",
    "#print(result)\n",
    "print(len(result))"
   ],
   "outputs": [
    {
     "output_type": "stream",
     "name": "stdout",
     "text": [
      "912095\n"
     ]
    }
   ],
   "metadata": {}
  },
  {
   "cell_type": "code",
   "execution_count": 3,
   "source": [
    "from collections import Counter\n",
    "my_dict ={}\n",
    "\n",
    "my_dict = Counter(result)\n",
    "#my_dict.update(my_count)\n",
    "\n",
    "print(len(my_dict))"
   ],
   "outputs": [
    {
     "output_type": "stream",
     "name": "stdout",
     "text": [
      "38558\n"
     ]
    }
   ],
   "metadata": {}
  },
  {
   "cell_type": "code",
   "execution_count": 4,
   "source": [
    "n_cnt = 0\n",
    "unk_val = 0\n",
    "num_val = []\n",
    "unk_val_lt = []\n",
    "my_vocab = dict(sorted(my_dict.items(), key=lambda item: item[1],reverse=True))\n",
    "print(len(my_vocab))\n",
    "for i in list(my_vocab.keys()):\n",
    "    #print(my_test[i])\n",
    "    if regex.search(i)!=None:\n",
    "        n_cnt+=1\n",
    "        num_val.append(i)\n",
    "        del my_vocab[i]\n",
    "    elif my_vocab[i] < 2:\n",
    "        unk_val_lt.append(i)\n",
    "        del my_vocab[i]\n",
    "        unk_val+=1\n",
    "print(unk_val)\n",
    "print(n_cnt)\n",
    "\n",
    "print(len(my_vocab))\n",
    "#print(my_vocab)"
   ],
   "outputs": [
    {
     "output_type": "stream",
     "name": "stdout",
     "text": [
      "38558\n",
      "14775\n",
      "4293\n",
      "19490\n"
     ]
    }
   ],
   "metadata": {}
  },
  {
   "cell_type": "code",
   "execution_count": 5,
   "source": [
    "idx = 2\n",
    "with open(os.path.join(sys.path[0],'vocab.txt'), 'w') as f:\n",
    "    f.write('<unk>'+'\\t'+str(0)+'\\t'+str(unk_val)+'\\n')\n",
    "    f.write('<num>'+'\\t'+str(1)+'\\t'+str(n_cnt)+'\\n')\n",
    "    for i in my_vocab:\n",
    "        #my_str = \n",
    "        f.write(str(i)+'\\t'+str(idx)+'\\t'+str(my_vocab[i])+'\\n')\n",
    "        idx+=1\n",
    "    my_vocab['<unk>'] = unk_val\n",
    "    my_vocab['<num>'] = n_cnt\n",
    "f.close()"
   ],
   "outputs": [],
   "metadata": {}
  },
  {
   "cell_type": "code",
   "execution_count": 6,
   "source": [
    "def preprocess(file_name):\n",
    "    f=open(file_name,\"r\")\n",
    "    lines=f.read().splitlines()\n",
    "    my_tags_lt = []\n",
    "    pos_tags= []\n",
    "    my_pos_lt = []\n",
    "    st_cnt=0\n",
    "    temp = ['<s>']\n",
    "    i = 0\n",
    "    for x in lines:\n",
    "        y = x.split('\\t')\n",
    "        if len(y) == 1:\n",
    "            st_cnt+=1\n",
    "            temp = ['<s>']\n",
    "            i = 0\n",
    "        else:\n",
    "            temp.append(y[2])\n",
    "            my_pos_lt.append((temp[i],y[2]))\n",
    "            i+=1\n",
    "\n",
    "        if len(y)==3:\n",
    "            given_word = x.split('\\t')[1].lower()\n",
    "            \n",
    "            if given_word in my_vocab:\n",
    "                my_tags_lt.append((given_word,x.split('\\t')[2]))\n",
    "            elif regex.search(given_word)!=None:\n",
    "                my_tags_lt.append(('<num>',x.split('\\t')[2]))\n",
    "            else:\n",
    "                my_tags_lt.append(('<unk>',x.split('\\t')[2]))\n",
    "\n",
    "            pos_tags.append(x.split('\\t')[2])\n",
    "    f.close()\n",
    "    my_count_pos = Counter(pos_tags)\n",
    "    my_count_pos['<s>'] = st_cnt\n",
    "    count_sx_pair = Counter(my_tags_lt)\n",
    "    count_ss_pair = Counter(my_pos_lt)\n",
    "    return my_count_pos,count_sx_pair,count_ss_pair,pos_tags"
   ],
   "outputs": [],
   "metadata": {}
  },
  {
   "cell_type": "code",
   "execution_count": 7,
   "source": [
    "my_count_pos,count_sx_pair,count_ss_pair,pos_tags = preprocess(\"train\")"
   ],
   "outputs": [],
   "metadata": {}
  },
  {
   "cell_type": "code",
   "execution_count": 8,
   "source": [
    "print(set(pos_tags))"
   ],
   "outputs": [
    {
     "output_type": "stream",
     "name": "stdout",
     "text": [
      "{\"''\", 'RBR', 'RB', 'WP$', 'PRP', 'IN', ':', 'JJR', 'TO', 'JJS', 'LS', 'RBS', 'VBG', 'NN', 'NNP', '$', '#', '.', 'JJ', 'WRB', 'SYM', 'DT', 'CD', 'EX', 'FW', 'VBZ', 'NNS', 'VBD', 'VB', 'MD', 'CC', 'WDT', 'VBP', '-LRB-', 'NNPS', '-RRB-', ',', 'POS', '``', 'UH', 'WP', 'VBN', 'PDT', 'PRP$', 'RP'}\n"
     ]
    }
   ],
   "metadata": {}
  },
  {
   "cell_type": "code",
   "execution_count": 9,
   "source": [
    "pos_tags = set(pos_tags)"
   ],
   "outputs": [],
   "metadata": {}
  },
  {
   "cell_type": "code",
   "execution_count": 10,
   "source": [
    "print(len(count_sx_pair))"
   ],
   "outputs": [
    {
     "output_type": "stream",
     "name": "stdout",
     "text": [
      "27998\n"
     ]
    }
   ],
   "metadata": {}
  },
  {
   "cell_type": "code",
   "execution_count": 11,
   "source": [
    "def emission_prob(count_sx_pair):\n",
    "    em_dt = {}\n",
    "    count_sx_pair_cnt = [(*i, j) for i, j in count_sx_pair.items()]\n",
    "    #print(len(count_sx_pair_cnt))\n",
    "    for i in count_sx_pair_cnt:\n",
    "        count_sx = i[2]\n",
    "        count_s = my_count_pos[i[1]]\n",
    "        em_dt[(i[1],i[0])] = count_sx/count_s\n",
    "    return em_dt\n"
   ],
   "outputs": [],
   "metadata": {}
  },
  {
   "cell_type": "code",
   "execution_count": 12,
   "source": [
    "em_dt_rt = emission_prob(count_sx_pair)"
   ],
   "outputs": [],
   "metadata": {}
  },
  {
   "cell_type": "code",
   "execution_count": 13,
   "source": [
    "# em_dt contains the emission dictionary \n",
    "print(len(em_dt_rt))"
   ],
   "outputs": [
    {
     "output_type": "stream",
     "name": "stdout",
     "text": [
      "27998\n"
     ]
    }
   ],
   "metadata": {}
  },
  {
   "cell_type": "code",
   "execution_count": 14,
   "source": [
    "def trans_prob(count_ss_pair):\n",
    "    count_ss_pair_cnt = [(*i, j) for i, j in count_ss_pair.items()]\n",
    "    trans_dt = {}\n",
    "    for i in count_ss_pair_cnt:\n",
    "        count_ss = i[2]\n",
    "        count_s = my_count_pos[i[0]]\n",
    "        trans_dt[(i[0],i[1])] = count_ss/count_s\n",
    "    return trans_dt\n"
   ],
   "outputs": [],
   "metadata": {}
  },
  {
   "cell_type": "code",
   "execution_count": 15,
   "source": [
    "trans_dt_rt = trans_prob(count_ss_pair)"
   ],
   "outputs": [],
   "metadata": {}
  },
  {
   "cell_type": "code",
   "execution_count": 16,
   "source": [
    "print(len(trans_dt_rt))"
   ],
   "outputs": [
    {
     "output_type": "stream",
     "name": "stdout",
     "text": [
      "1392\n"
     ]
    }
   ],
   "metadata": {}
  },
  {
   "cell_type": "code",
   "execution_count": 17,
   "source": [
    "a = {str(k): trans_dt_rt[k] for k in trans_dt_rt} \n",
    "b = {str(k): em_dt_rt[k] for k in em_dt_rt} "
   ],
   "outputs": [],
   "metadata": {}
  },
  {
   "cell_type": "code",
   "execution_count": 18,
   "source": [
    "import json\n",
    "task2_dict = {}\n",
    "task2_dict['transition'] = a\n",
    "task2_dict['emission'] = b\n",
    "#print(task2_dict)\n",
    "with open(os.path.join(sys.path[0],'hmm.json'), 'w') as f:\n",
    "    json.dump(task2_dict,f)\n"
   ],
   "outputs": [],
   "metadata": {}
  },
  {
   "cell_type": "code",
   "execution_count": 19,
   "source": [
    "def my_dev(file_name):\n",
    "    f=open(file_name,\"r\")\n",
    "    lines=f.read().splitlines()\n",
    "    all_words = ['<s>']\n",
    "    all_tags = []\n",
    "    for x in lines:\n",
    "        y = x.split('\\t')\n",
    "        if len(y) == 1:\n",
    "            all_words.append('<e>')\n",
    "            all_words.append('<s>')\n",
    "        else:\n",
    "            all_words.append(y[1].lower())\n",
    "            all_tags.append(y[2])\n",
    "    return all_words,all_tags\n",
    "    "
   ],
   "outputs": [],
   "metadata": {}
  },
  {
   "cell_type": "code",
   "execution_count": 20,
   "source": [
    "all_words,all_tags = my_dev(os.path.join(sys.path[0],'dev'))\n",
    "all_words = all_words[:-1]\n"
   ],
   "outputs": [],
   "metadata": {}
  },
  {
   "cell_type": "code",
   "execution_count": 21,
   "source": [
    "print(len(all_words),len(all_tags))"
   ],
   "outputs": [
    {
     "output_type": "stream",
     "name": "stdout",
     "text": [
      "142820 131768\n"
     ]
    }
   ],
   "metadata": {}
  },
  {
   "cell_type": "code",
   "execution_count": 22,
   "source": [
    "def find_trans_prob(t1,t2):\n",
    "    if (t1,t2) in count_ss_pair:\n",
    "        cnt_trans_ss = count_ss_pair[(t1,t2)]\n",
    "        cnt_trans_s = my_count_pos[t1]\n",
    "        #print('t1,t2',t1,t2,cnt_trans_ss,cnt_trans_s)\n",
    "        return cnt_trans_ss/cnt_trans_s\n",
    "    else:\n",
    "        return 0\n"
   ],
   "outputs": [],
   "metadata": {}
  },
  {
   "cell_type": "code",
   "execution_count": 23,
   "source": [
    "print(len(my_vocab))"
   ],
   "outputs": [
    {
     "output_type": "stream",
     "name": "stdout",
     "text": [
      "19492\n"
     ]
    }
   ],
   "metadata": {}
  },
  {
   "cell_type": "code",
   "execution_count": 24,
   "source": [
    "def find_ems_prob(t1,t2):\n",
    "    if (t1,t2) in count_sx_pair:\n",
    "        cnt_ems_ss = count_sx_pair[(t1,t2)]\n",
    "        cnt_ems_s = my_count_pos[t2]\n",
    "        #print('t1,t2',t1,t2,cnt_ems_ss,cnt_ems_s)\n",
    "        try:\n",
    "            return cnt_ems_ss/cnt_ems_s\n",
    "        except:\n",
    "            return 0\n",
    "    elif t1 not in my_vocab :\n",
    "    \n",
    "        if regex.search(t1)!=None:\n",
    "            cnt_ems_ss = count_sx_pair[('<num>',t2)]\n",
    "            cnt_ems_s = my_count_pos[t2]\n",
    "            #print('t1,t2',t1,t2,cnt_ems_ss,cnt_ems_s)\n",
    "            try:\n",
    "                return cnt_ems_ss/cnt_ems_s\n",
    "            except:\n",
    "                return 0\n",
    "        else:\n",
    "            cnt_ems_ss = count_sx_pair[('<unk>',t2)]\n",
    "            cnt_ems_s = my_count_pos[t2]\n",
    "            #print('t1,t2',t1,t2,cnt_ems_ss,cnt_ems_s)\n",
    "            try:\n",
    "                return cnt_ems_ss/cnt_ems_s\n",
    "            except:\n",
    "                return 0\n",
    "    else:\n",
    "        return 0"
   ],
   "outputs": [],
   "metadata": {}
  },
  {
   "cell_type": "code",
   "execution_count": 25,
   "source": [
    "def Greedy(all_words,pos_tags):\n",
    "    state = []\n",
    "    T = list(pos_tags)\n",
    "    #print('T',T)\n",
    "    for i in range(1,len(all_words)):\n",
    "        p = []\n",
    "        #print('i',all_words[i])\n",
    "        for tag in T:\n",
    "            #print('tag',tag)\n",
    "            if all_words[i] =='<e>':\n",
    "                state.append('<e>')\n",
    "                break\n",
    "            elif all_words[i-1]=='<e>' and all_words[i] =='<s>':\n",
    "                break\n",
    "            elif all_words[i-1] =='<s>':\n",
    "                transition_p = find_trans_prob(all_words[i-1],tag)\n",
    "                #print('trnas start',transition_p)\n",
    "            \n",
    "            else:\n",
    "                transition_p = find_trans_prob(state[-1],tag)\n",
    "                #print('trans',transition_p)\n",
    "            #if i!='':\n",
    "\n",
    "            emission_p = find_ems_prob(all_words[i],tag)\n",
    "            #print('emiss',emission_p)\n",
    "            state_probability = emission_p * transition_p \n",
    "            #print('state prob',state_probability)   \n",
    "            p.append(state_probability)\n",
    "            #print('p',p)\n",
    "        if len(p) == 0:\n",
    "            pass\n",
    "        else:\n",
    "            pmax = max(p)\n",
    "            state_max = T[p.index(pmax)]\n",
    "            \n",
    "            \n",
    "            state.append(state_max)\n",
    "    \n",
    "    return list(state)"
   ],
   "outputs": [],
   "metadata": {}
  },
  {
   "cell_type": "code",
   "execution_count": 26,
   "source": [
    "ans = Greedy(all_words,pos_tags)"
   ],
   "outputs": [],
   "metadata": {}
  },
  {
   "cell_type": "code",
   "execution_count": 27,
   "source": [
    "to_acc = ans\n",
    "ans = [i for i in ans if i != '<e>']\n"
   ],
   "outputs": [],
   "metadata": {}
  },
  {
   "cell_type": "code",
   "execution_count": 28,
   "source": [
    "print(len(ans))\n",
    "print(len(all_tags))\n",
    "#print(ans)\n",
    "#print((all_tags))\n",
    "ans.append('.')\n",
    "#print(ans)\n",
    "print(len(ans))\n"
   ],
   "outputs": [
    {
     "output_type": "stream",
     "name": "stdout",
     "text": [
      "131767\n",
      "131768\n",
      "131768\n"
     ]
    }
   ],
   "metadata": {}
  },
  {
   "cell_type": "code",
   "execution_count": 29,
   "source": [
    "correct = 0\n",
    "for i in range(len(ans)):\n",
    "    \n",
    "    if all_tags[i] == ans[i]:\n",
    "        correct+=1\n",
    "        \n",
    "        \n",
    "\n",
    "print(correct)\n",
    "#print(we)\n",
    "print('Accuracy:',correct/len(ans)*100)\n"
   ],
   "outputs": [
    {
     "output_type": "stream",
     "name": "stdout",
     "text": [
      "121535\n",
      "Accuracy: 92.23407807661951\n"
     ]
    }
   ],
   "metadata": {}
  },
  {
   "cell_type": "code",
   "execution_count": 30,
   "source": [
    "def my_test(file_name):\n",
    "    f=open(file_name,\"r\")\n",
    "    lines=f.read().splitlines()\n",
    "    all_words = ['<s>']\n",
    "    #all_tags = []\n",
    "    for x in lines:\n",
    "        y = x.split('\\t')\n",
    "        if len(y) == 1:\n",
    "            all_words.append('<e>')\n",
    "            all_words.append('<s>')\n",
    "        else:\n",
    "            all_words.append(y[1].lower())\n",
    "            #all_tags.append(y[2])\n",
    "    return all_words\n",
    "    "
   ],
   "outputs": [],
   "metadata": {}
  },
  {
   "cell_type": "code",
   "execution_count": 31,
   "source": [
    "all_words= my_test(os.path.join(sys.path[0],'test'))\n",
    "all_words = all_words[:-1]\n"
   ],
   "outputs": [],
   "metadata": {}
  },
  {
   "cell_type": "code",
   "execution_count": 32,
   "source": [
    "ans_test = Greedy(all_words,pos_tags)\n",
    "ans_test.append('.')"
   ],
   "outputs": [],
   "metadata": {}
  },
  {
   "cell_type": "code",
   "execution_count": 33,
   "source": [
    "print(len(ans_test))"
   ],
   "outputs": [
    {
     "output_type": "stream",
     "name": "stdout",
     "text": [
      "135115\n"
     ]
    }
   ],
   "metadata": {}
  },
  {
   "cell_type": "code",
   "execution_count": 34,
   "source": [
    "f=open(os.path.join(sys.path[0],'test'),\"r\")\n",
    "x = f\n",
    "lines = x.read().splitlines()\n",
    "print(len(lines))\n",
    "#print(lines)\n",
    "with open(os.path.join(sys.path[0],'greedy.out.txt'), 'w') as my_op:\n",
    "    for i in range(len(lines)):\n",
    "        if ans_test[i]!='<e>':\n",
    "            mt = '\\t'+ans_test[i]+'\\n'\n",
    "            #print(lines[i]+mt)\n",
    "            #lines[i]=lines[i]+mt\n",
    "            my_op.write(lines[i]+mt)\n",
    "        else:\n",
    "            my_op.write('\\n')\n",
    "        \n"
   ],
   "outputs": [
    {
     "output_type": "stream",
     "name": "stdout",
     "text": [
      "135115\n"
     ]
    }
   ],
   "metadata": {}
  },
  {
   "cell_type": "code",
   "execution_count": 41,
   "source": [
    "all_words = my_test(os.path.join(sys.path[0],'test'))\n",
    "all_words = all_words[:-1]\n"
   ],
   "outputs": [],
   "metadata": {}
  },
  {
   "cell_type": "code",
   "execution_count": 42,
   "source": [
    "def Viterbi(all_words,pos_tags):\n",
    "    state = []\n",
    "    T = list(pos_tags)\n",
    "    #print('T',T)\n",
    "    state_prob = []\n",
    "    \n",
    "    for i in range(1,len(all_words)):\n",
    "        p = []\n",
    "        flag = False\n",
    "        chw = False\n",
    "        print('i',all_words[i])\n",
    "        for tag in T:\n",
    "            print('tag',tag)\n",
    "            if all_words[i] =='<e>':\n",
    "                break\n",
    "            elif all_words[i-1]=='<e>' and all_words[i] =='<s>':\n",
    "                break\n",
    "            elif all_words[i-1] =='<s>':\n",
    "                transition_p = find_trans_prob(all_words[i-1],tag)\n",
    "                print('trnas start',transition_p)\n",
    "            \n",
    "            else:\n",
    "                print('in DT',state[-1][0])\n",
    "                if len(state[-1][0])==2:\n",
    "                    flag = True\n",
    "                    dr = [state[-1][0][0]]\n",
    "                    print('dr')\n",
    "                    transition_p = find_trans_prob(state[-1][0][0],tag)\n",
    "                    print(transition_p)\n",
    "                else:\n",
    "                    print('in chw')\n",
    "                    chw = True\n",
    "                    dr = [state[-1][0][0]]\n",
    "                    print(dr)\n",
    "                    saq = {}\n",
    "\n",
    "                    for i in range(cnt):\n",
    "                        transition_p = find_trans_prob(state[-1-i][0][-1],tag)\n",
    "                        saq[state[-1-i][0]] = transition_p*state[-1-i][1]\n",
    "                    print('saq,cnt',cnt,saq)\n",
    "                #print('trans',transition_p)\n",
    "            #if i!='':\n",
    "\n",
    "            emission_p = find_ems_prob(all_words[i],tag)\n",
    "            #print('emiss',emission_p)\n",
    "            if chw ==True:\n",
    "                er = {}\n",
    "                for q in saq:\n",
    "                    er[q] = emission_p * saq[q]\n",
    "                max_key = max(er, key=er.get)\n",
    "                state_probability = er[max_key]\n",
    "            else:\n",
    "                state_probability = emission_p * transition_p \n",
    "            #print('state prob',state_probability)   \n",
    "            if flag == True:\n",
    "                p.append(state_probability*state[-1][1])\n",
    "            elif chw ==True:\n",
    "                p.append(state_probability)\n",
    "            else:\n",
    "                p.append(state_probability)\n",
    "            #print('p',p)\n",
    "        if len(p) == 0:\n",
    "            pass\n",
    "        else:\n",
    "            v_temp = []\n",
    "            cnt = 0\n",
    "            for i in p:\n",
    "                if p!=0 and flag == False:\n",
    "                    v_temp.append(T[p.index(i)])\n",
    "                    state.append([v_temp,p])\n",
    "                elif p!=0 and flag==True:\n",
    "                    cnt+=1\n",
    "                    dr.append(T[p.index(i)])\n",
    "                    v_temp.append(dr)\n",
    "                    state.append([v_temp,p])\n",
    "                elif p!=0 and chw==True:\n",
    "                    cnt+=1\n",
    "                    dr.append(T[p.index(i)])\n",
    "                    v_temp.append(dr)\n",
    "                    state.append([v_temp,p])\n",
    "\n",
    "                \n",
    "    \n",
    "    \n",
    "    return list(state)"
   ],
   "outputs": [],
   "metadata": {}
  },
  {
   "cell_type": "code",
   "execution_count": 37,
   "source": [
    "ans = Viterbi(all_words,pos_tags)"
   ],
   "outputs": [
    {
     "output_type": "stream",
     "name": "stdout",
     "text": [
      "i the\n",
      "tag ''\n",
      "trnas start 0.000366329120548447\n",
      "tag RBR\n",
      "trnas start 0.0020933092602768402\n",
      "tag RB\n",
      "trnas start 0.056048355443912394\n",
      "tag WP$\n",
      "trnas start 2.61663657534605e-05\n",
      "tag PRP\n",
      "trnas start 0.06149095952063218\n",
      "tag IN\n",
      "trnas start 0.12884318497003952\n",
      "tag :\n",
      "trnas start 0.002799801135620274\n",
      "tag JJR\n",
      "trnas start 0.0017008137739749326\n",
      "tag TO\n",
      "trnas start 0.003532459376717168\n",
      "tag JJS\n",
      "trnas start 0.0024858047465787475\n",
      "tag LS\n",
      "trnas start 0.0009158228013711175\n",
      "tag RBS\n",
      "trnas start 0.0005233273150692101\n",
      "tag VBG\n",
      "trnas start 0.01201036188083837\n",
      "tag NN\n",
      "trnas start 0.04118585969594683\n",
      "tag NNP\n",
      "trnas start 0.1978962241934218\n",
      "tag $\n",
      "trnas start 0.0008634900698641965\n",
      "tag #\n",
      "trnas start 2.61663657534605e-05\n",
      "tag .\n",
      "trnas start 0\n",
      "tag JJ\n",
      "trnas start 0.04170918701101604\n",
      "tag WRB\n",
      "trnas start 0.006096763220556297\n",
      "tag SYM\n",
      "trnas start 0.0010989873616453411\n",
      "tag DT\n",
      "trnas start 0.21911714681947825\n",
      "tag CD\n",
      "trnas start 0.011225370908234555\n",
      "tag EX\n",
      "trnas start 0.004238951252060601\n",
      "tag FW\n",
      "trnas start 0.0001831645602742235\n",
      "tag VBZ\n",
      "trnas start 0.001517649213700709\n",
      "tag NNS\n",
      "trnas start 0.04123819242745375\n",
      "tag VBD\n",
      "trnas start 0.0007588246068503545\n",
      "tag VB\n",
      "trnas start 0.003061464793154879\n",
      "tag MD\n",
      "trnas start 0.0005494936808226706\n",
      "tag CC\n",
      "trnas start 0.05691184551377659\n",
      "tag WDT\n",
      "trnas start 0.0008111573383572755\n",
      "tag VBP\n",
      "trnas start 0.000366329120548447\n",
      "tag -LRB-\n",
      "trnas start 0.003427793913703326\n",
      "tag NNPS\n",
      "trnas start 0.0020409765287699192\n",
      "tag -RRB-\n",
      "trnas start 2.61663657534605e-05\n",
      "tag ,\n",
      "trnas start 0\n",
      "tag POS\n",
      "trnas start 0\n",
      "tag ``\n",
      "trnas start 0.0747311405918832\n",
      "tag UH\n",
      "trnas start 0.000627992778083052\n",
      "tag WP\n",
      "trnas start 0.0031137975246618\n",
      "tag VBN\n",
      "trnas start 0.005835099563021692\n",
      "tag PDT\n",
      "trnas start 0.000732658241096894\n",
      "tag PRP$\n",
      "trnas start 0.00779757699453123\n",
      "tag RP\n",
      "trnas start 0\n",
      "i cat\n",
      "tag ''\n",
      "in DT [\"''\", \"''\", \"''\", \"''\", \"''\", \"''\", \"''\", \"''\", \"''\", \"''\", \"''\", \"''\", \"''\", 'NN', 'NNP', \"''\", \"''\", \"''\", 'JJ', \"''\", \"''\", 'DT', 'CD', \"''\", \"''\", \"''\", \"''\", \"''\", 'VB', \"''\", \"''\", \"''\", 'VBP', \"''\", \"''\", \"''\", \"''\", \"''\", \"''\", \"''\", \"''\", \"''\", \"''\", \"''\", \"''\"]\n",
      "in chw\n",
      "[\"''\"]\n",
      "saq,cnt 0 {}\n"
     ]
    },
    {
     "output_type": "error",
     "ename": "ValueError",
     "evalue": "max() arg is an empty sequence",
     "traceback": [
      "\u001b[0;31m---------------------------------------------------------------------------\u001b[0m",
      "\u001b[0;31mValueError\u001b[0m                                Traceback (most recent call last)",
      "\u001b[0;32m/var/folders/17/jys7jgwn3x37cltk9w8j0l080000gq/T/ipykernel_1457/697590575.py\u001b[0m in \u001b[0;36m<module>\u001b[0;34m\u001b[0m\n\u001b[0;32m----> 1\u001b[0;31m \u001b[0mans\u001b[0m \u001b[0;34m=\u001b[0m \u001b[0mViterbi\u001b[0m\u001b[0;34m(\u001b[0m\u001b[0mall_words\u001b[0m\u001b[0;34m,\u001b[0m\u001b[0mpos_tags\u001b[0m\u001b[0;34m)\u001b[0m\u001b[0;34m\u001b[0m\u001b[0;34m\u001b[0m\u001b[0m\n\u001b[0m",
      "\u001b[0;32m/var/folders/17/jys7jgwn3x37cltk9w8j0l080000gq/T/ipykernel_1457/1424902474.py\u001b[0m in \u001b[0;36mViterbi\u001b[0;34m(all_words, pos_tags)\u001b[0m\n\u001b[1;32m     48\u001b[0m                 \u001b[0;32mfor\u001b[0m \u001b[0mq\u001b[0m \u001b[0;32min\u001b[0m \u001b[0msaq\u001b[0m\u001b[0;34m:\u001b[0m\u001b[0;34m\u001b[0m\u001b[0;34m\u001b[0m\u001b[0m\n\u001b[1;32m     49\u001b[0m                     \u001b[0mer\u001b[0m\u001b[0;34m[\u001b[0m\u001b[0mq\u001b[0m\u001b[0;34m]\u001b[0m \u001b[0;34m=\u001b[0m \u001b[0memission_p\u001b[0m \u001b[0;34m*\u001b[0m \u001b[0msaq\u001b[0m\u001b[0;34m[\u001b[0m\u001b[0mq\u001b[0m\u001b[0;34m]\u001b[0m\u001b[0;34m\u001b[0m\u001b[0;34m\u001b[0m\u001b[0m\n\u001b[0;32m---> 50\u001b[0;31m                 \u001b[0mmax_key\u001b[0m \u001b[0;34m=\u001b[0m \u001b[0mmax\u001b[0m\u001b[0;34m(\u001b[0m\u001b[0mer\u001b[0m\u001b[0;34m,\u001b[0m \u001b[0mkey\u001b[0m\u001b[0;34m=\u001b[0m\u001b[0mer\u001b[0m\u001b[0;34m.\u001b[0m\u001b[0mget\u001b[0m\u001b[0;34m)\u001b[0m\u001b[0;34m\u001b[0m\u001b[0;34m\u001b[0m\u001b[0m\n\u001b[0m\u001b[1;32m     51\u001b[0m                 \u001b[0mstate_probability\u001b[0m \u001b[0;34m=\u001b[0m \u001b[0mer\u001b[0m\u001b[0;34m[\u001b[0m\u001b[0mmax_key\u001b[0m\u001b[0;34m]\u001b[0m\u001b[0;34m\u001b[0m\u001b[0;34m\u001b[0m\u001b[0m\n\u001b[1;32m     52\u001b[0m             \u001b[0;32melse\u001b[0m\u001b[0;34m:\u001b[0m\u001b[0;34m\u001b[0m\u001b[0;34m\u001b[0m\u001b[0m\n",
      "\u001b[0;31mValueError\u001b[0m: max() arg is an empty sequence"
     ]
    }
   ],
   "metadata": {}
  }
 ],
 "metadata": {
  "celltoolbar": "Raw Cell Format",
  "kernelspec": {
   "name": "python3",
   "display_name": "Python 3.9.7 64-bit"
  },
  "language_info": {
   "codemirror_mode": {
    "name": "ipython",
    "version": 3
   },
   "file_extension": ".py",
   "mimetype": "text/x-python",
   "name": "python",
   "nbconvert_exporter": "python",
   "pygments_lexer": "ipython3",
   "version": "3.9.7"
  },
  "interpreter": {
   "hash": "aee8b7b246df8f9039afb4144a1f6fd8d2ca17a180786b69acc140d282b71a49"
  }
 },
 "nbformat": 4,
 "nbformat_minor": 5
}